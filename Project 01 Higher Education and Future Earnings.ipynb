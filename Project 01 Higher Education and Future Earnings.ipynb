{
 "cells": [
  {
   "cell_type": "markdown",
   "metadata": {},
   "source": [
    "**SA463A &#x25aa; Data Wrangling and Visualization &#x25aa; Fall 2021 &#x25aa; Uhan**"
   ]
  },
  {
   "cell_type": "markdown",
   "metadata": {},
   "source": [
    "# Project 1. Higher Education and Future Earnings"
   ]
  },
  {
   "cell_type": "markdown",
   "metadata": {},
   "source": [
    "In this project, you will use visualization to explore the relationships between colleges, majors, and salary after graduation. To do this, you will use data from [PayScale](https://payscale.com), who has collected information from millions of individuals about their education and careers."
   ]
  },
  {
   "cell_type": "markdown",
   "metadata": {},
   "source": [
    "<hr style=\"border-top: 2px solid gray; margin-top: 1px; margin-bottom: 1px\"></hr>"
   ]
  },
  {
   "cell_type": "markdown",
   "metadata": {},
   "source": [
    "### Problem 0"
   ]
  },
  {
   "cell_type": "markdown",
   "metadata": {},
   "source": [
    "Import Pandas and Altair."
   ]
  },
  {
   "cell_type": "code",
   "execution_count": null,
   "metadata": {},
   "outputs": [],
   "source": []
  },
  {
   "cell_type": "markdown",
   "metadata": {},
   "source": [
    "### Problem 1"
   ]
  },
  {
   "cell_type": "markdown",
   "metadata": {},
   "source": [
    "In the same folder as this notebook, there is a CSV file `data/payscale_by_school.csv`. This file contains 6 columns:\n",
    "\n",
    "| Column                 | Description                                                          |\n",
    "| :--------------------- | :------------------------------------------------------------------- |\n",
    "| `School`               | Name of the school                                               |\n",
    "| `Engineering`          | `True` if the school is engineering-focused, `False` otherwise       |\n",
    "| `Private`              | `True` if the school is private, `False` if the school is public     |\n",
    "| `Early Career Pay`     | Median salary for alumni with 0-5 years experience                   |\n",
    "| `Mid-Career Pay`       | Median salary for alumni with 10+ years of experience                |\n",
    "| `Percent High Meaning` | Fraction of alumni who say their work makes the world a better place |\n",
    "\n",
    "The salary data is for alumni who earned a bachelor's degree and did not go on to earn any additional degrees. The original data can be found [here](https://www.payscale.com/college-salary-report/bachelors)."
   ]
  },
  {
   "cell_type": "markdown",
   "metadata": {},
   "source": [
    "**(a)** Load `data/payscale_by_school.csv` into a Pandas DataFrame. Check your work by displaying the first 5 rows."
   ]
  },
  {
   "cell_type": "code",
   "execution_count": null,
   "metadata": {},
   "outputs": [],
   "source": []
  },
  {
   "cell_type": "markdown",
   "metadata": {},
   "source": [
    "**(b)** How many schools are represented in this dataset? Answer this using a DataFrame method or attribute."
   ]
  },
  {
   "cell_type": "code",
   "execution_count": null,
   "metadata": {},
   "outputs": [],
   "source": []
  },
  {
   "cell_type": "markdown",
   "metadata": {},
   "source": [
    "*Write your answer here. Double-click to edit.*"
   ]
  },
  {
   "cell_type": "markdown",
   "metadata": {},
   "source": [
    "**(c)** You can sort a DataFrame by a specific column with its `.sort_values()` method. For example,\n",
    "\n",
    "```python\n",
    "df.sort_values(by='x', ascending=True).head()\n",
    "```\n",
    "\n",
    "sorts the DataFrame `df` according to column `x` from lowest to highest, and then outputs the first 5 rows of this sorted DataFrame.\n",
    "\n",
    "Which school has the 4th highest median salary for alumni with 10+ years experience?"
   ]
  },
  {
   "cell_type": "code",
   "execution_count": null,
   "metadata": {},
   "outputs": [],
   "source": []
  },
  {
   "cell_type": "markdown",
   "metadata": {},
   "source": [
    "_Write your answer here. Double-click to edit._"
   ]
  },
  {
   "cell_type": "markdown",
   "metadata": {},
   "source": [
    "### Problem 2"
   ]
  },
  {
   "cell_type": "markdown",
   "metadata": {},
   "source": [
    "Is there a relationship between a school's median alumni early career salary and its median alumni mid-career pay? If so, is this relationship different for engineering vs. non-engineering schools?"
   ]
  },
  {
   "cell_type": "markdown",
   "metadata": {},
   "source": [
    "**(a)** Create a scatter plot of median alumni early career salary vs. median alumni mid-career salary. Use color to differentiate between engineering and non-engineering schools."
   ]
  },
  {
   "cell_type": "code",
   "execution_count": null,
   "metadata": {},
   "outputs": [],
   "source": []
  },
  {
   "cell_type": "markdown",
   "metadata": {
    "tags": []
   },
   "source": [
    "**(b)** In words, describe the relationship, if any, between median alumni early career salary and median alumni mid-career salary. Is your answer different for engineering vs. non-engineering schools?"
   ]
  },
  {
   "cell_type": "markdown",
   "metadata": {},
   "source": [
    "_Write your answer here. Double-click to edit._"
   ]
  },
  {
   "cell_type": "markdown",
   "metadata": {},
   "source": [
    "### Problem 3"
   ]
  },
  {
   "cell_type": "markdown",
   "metadata": {},
   "source": [
    "Is there a relationship between a school's median alumni mid-career salary and the percentage of its alumni who say their work makes the world a better place? If so, is this relationship different for private vs. public schools?"
   ]
  },
  {
   "cell_type": "markdown",
   "metadata": {},
   "source": [
    "**(a)** Create a scatter plot of median alumni mid-career salary vs. the percentage of alumni who say their work makes the world a better place. Use color to differentiate between private and public schools."
   ]
  },
  {
   "cell_type": "code",
   "execution_count": null,
   "metadata": {},
   "outputs": [],
   "source": []
  },
  {
   "cell_type": "markdown",
   "metadata": {},
   "source": [
    "**(b)** In words, describe the relationship, if any, between median alumni mid-career salary and the percentage of alumni who say their work makes the world a better place. Is your answer different for public vs. private schools?"
   ]
  },
  {
   "cell_type": "markdown",
   "metadata": {},
   "source": [
    "_Write your answer here. Double-click to edit._"
   ]
  },
  {
   "cell_type": "markdown",
   "metadata": {},
   "source": [
    "### Problem 4"
   ]
  },
  {
   "cell_type": "markdown",
   "metadata": {},
   "source": [
    "How many colleges have most of their alumni say that their work makes the world a better place?\n",
    "\n",
    "__(a)__ Create a histogram of the percentage of alumni who say their work makes the world a better place. Use Altair's default number of bins."
   ]
  },
  {
   "cell_type": "code",
   "execution_count": null,
   "metadata": {},
   "outputs": [],
   "source": []
  },
  {
   "cell_type": "markdown",
   "metadata": {},
   "source": [
    "__(b)__ Based on your histogram, how many colleges have 50-60\\% of their alumni say that their work makes the world a better place?"
   ]
  },
  {
   "cell_type": "markdown",
   "metadata": {},
   "source": [
    "_Write your answer here. Double-click to edit._"
   ]
  },
  {
   "cell_type": "markdown",
   "metadata": {},
   "source": [
    "### Problem 5"
   ]
  },
  {
   "cell_type": "markdown",
   "metadata": {},
   "source": [
    "Do the alumni of private schools have higher median mid-career salaries than their public school counterparts?\n",
    "\n",
    "__(a)__ Create a bar chart that shows the average median mid-career salary for private schools vs. public schools. "
   ]
  },
  {
   "cell_type": "code",
   "execution_count": null,
   "metadata": {},
   "outputs": [],
   "source": []
  },
  {
   "cell_type": "markdown",
   "metadata": {},
   "source": [
    "__(b)__ Based on your bar chart, which alumni have higher median mid-career salaries, those from private or public schools?"
   ]
  },
  {
   "cell_type": "markdown",
   "metadata": {},
   "source": [
    "_Write your answer here. Double-click to edit._"
   ]
  },
  {
   "cell_type": "markdown",
   "metadata": {},
   "source": [
    "### Problem 6"
   ]
  },
  {
   "cell_type": "markdown",
   "metadata": {},
   "source": [
    "In the same folder as this notebook, there is a CSV file `data/payscale_by_major.csv`. This file contains 4 columns:\n",
    "\n",
    "| Column                 | Description                                                          |\n",
    "| :--------------------- | :------------------------------------------------------------------- |\n",
    "| `Major`                | Name of major                                                        |\n",
    "| `Major Category`       | General category for major                                           |\n",
    "| `Early Career Pay`     | Median salary for alumni with 0-5 years experience                   |\n",
    "| `Mid-Career Pay`       | Median salary for alumni with 10+ years of experience                |\n",
    "\n",
    "The original data can be found [here](https://online.wsj.com/public/resources/documents/info-Degrees_that_Pay_you_Back-sort.html), which was taken from PayScale. The major categories were taken from [this article](https://www.thebalancecareers.com/choosing-a-college-major-by-field-3570279) on The Balance Careers."
   ]
  },
  {
   "cell_type": "markdown",
   "metadata": {},
   "source": [
    "**(a)** Load `data/payscale_by_major.csv` into a Pandas DataFrame. Check your work by displaying the first 5 rows."
   ]
  },
  {
   "cell_type": "code",
   "execution_count": null,
   "metadata": {},
   "outputs": [],
   "source": []
  },
  {
   "cell_type": "markdown",
   "metadata": {},
   "source": [
    "**(b)** How many majors are included in this dataset? Answer this using a DataFrame method or attribute."
   ]
  },
  {
   "cell_type": "code",
   "execution_count": null,
   "metadata": {},
   "outputs": [],
   "source": []
  },
  {
   "cell_type": "markdown",
   "metadata": {},
   "source": [
    "*Write your answer here. Double-click to edit.*"
   ]
  },
  {
   "cell_type": "markdown",
   "metadata": {},
   "source": [
    "### Problem 7"
   ]
  },
  {
   "cell_type": "markdown",
   "metadata": {},
   "source": [
    "How do the median early career salaries compare across majors? Which major has the highest median early career salary?"
   ]
  },
  {
   "cell_type": "markdown",
   "metadata": {},
   "source": [
    "**(a)** Create a bar chart showing the median early career salary for each major."
   ]
  },
  {
   "cell_type": "code",
   "execution_count": null,
   "metadata": {},
   "outputs": [],
   "source": []
  },
  {
   "cell_type": "markdown",
   "metadata": {},
   "source": [
    "**(b)** Which major has the highest median early career salary?"
   ]
  },
  {
   "cell_type": "markdown",
   "metadata": {},
   "source": [
    "_Write your answer here. Double-click to edit._"
   ]
  },
  {
   "cell_type": "markdown",
   "metadata": {},
   "source": [
    "### Problem 8"
   ]
  },
  {
   "cell_type": "markdown",
   "metadata": {},
   "source": [
    "It would be nice to visualize the growth in salary by major as well.\n",
    "\n",
    "**(a)** Create a chart that has a line connecting the median early career salary with the median mid-career salary for each major. It should look like this:\n",
    "\n",
    "![](img/line.svg)"
   ]
  },
  {
   "cell_type": "code",
   "execution_count": null,
   "metadata": {},
   "outputs": [],
   "source": []
  },
  {
   "cell_type": "markdown",
   "metadata": {},
   "source": [
    "**(b)** Visualizations are often most helpful when they can identify counterintuitive trends. In a few sentences, describe what kinds of counterintuitive trends you can identify with the chart you created in part (a)."
   ]
  },
  {
   "cell_type": "markdown",
   "metadata": {},
   "source": [
    "*Write your answer here. Double-click to edit.*"
   ]
  },
  {
   "cell_type": "markdown",
   "metadata": {},
   "source": [
    "### Problem 9"
   ]
  },
  {
   "cell_type": "markdown",
   "metadata": {},
   "source": [
    "What general category of majors have alumni with higher mid-career salary?\n",
    "\n",
    "__(a)__ Create a bar chart showing the average median mid-career salary for each major category."
   ]
  },
  {
   "cell_type": "code",
   "execution_count": null,
   "metadata": {},
   "outputs": [],
   "source": []
  },
  {
   "cell_type": "markdown",
   "metadata": {},
   "source": [
    "__(b)__ Based on your bar chart, which majors have alumni with the highest mid-career salary?"
   ]
  },
  {
   "cell_type": "markdown",
   "metadata": {},
   "source": [
    "_Write your answer here. Double-click to edit._"
   ]
  },
  {
   "cell_type": "markdown",
   "metadata": {},
   "source": [
    "<hr style=\"border-top: 2px solid gray; margin-top: 1px; margin-bottom: 1px\"></hr>"
   ]
  },
  {
   "cell_type": "markdown",
   "metadata": {},
   "source": [
    "## Grading rubric"
   ]
  },
  {
   "cell_type": "markdown",
   "metadata": {},
   "source": [
    "| Problem   |                                                                                                     | Points |\n",
    "| :-------- | :-------------------------------------------------------------------------------------------------- | -----: |\n",
    "| 0         | Imports Pandas                                                                                       | 1     |\n",
    "|           | Imports Altair                                                                                       | 1     |\n",
    "| 1         | (a) Loads CSV file                                                                                  | 2      |\n",
    "|           | (a) Displays first 5 rows                                                                           | 2      |\n",
    "|           | (a) Code runs without errors                                                                        | 1      |\n",
    "|           | (b) Uses appropriate DataFrame method or attribute                                                  | 2      |\n",
    "|           | (b) Correctly identifies number of schools in dataset                                               | 2      |\n",
    "|           | (b) Code runs without errors                                                                        | 1      |\n",
    "|           | (c) Sorts DataFrame appropriately                                                                   | 2      |\n",
    "|           | (c) Correctly identifies school with 4th highest median mid-career salary                           | 2      |\n",
    "|           | (c) Code runs without errors                                                                        | 1      |\n",
    "| 2         | (a) Creates scatter plot using correct encodings for early and mid-career salaries                  | 4      |\n",
    "|           | (a) Uses color to differentiate between engineering and non-engineering schools                     | 2      |\n",
    "|           | (a) Code runs without errors                                                                        | 2      |\n",
    "|           | (b) Thoughtful description of relationship or lack thereof                                          | 2      |\n",
    "|           | (b) Clear, concise, writing free of spelling and grammar errors                                     | 1      |\n",
    "| 3         | (a) Creates scatter plot using correct encodings for mid-career salary and percentage of alumni...  | 4      |\n",
    "|           | (a) Correctly uses color to differentiate between private and public schools                        | 2      |\n",
    "|           | (a) Code runs without errors                                                                        | 2      |\n",
    "|           | (b) Thoughtful description of relationship or lack thereof                                          | 2      |\n",
    "|           | (b) Clear and concise writing free of spelling and grammar errors                                   | 1      |\n",
    "| 4         | (a) Creates histogram using correct encodings and default number of bins                            | 6      |\n",
    "|           | (a) Code runs without errors                                                                        | 2      |\n",
    "|           | (b) Correct number of colleges with 50-60\\% of their alumni who say that their work...              | 2      |\n",
    "| 5         | (a) Creates histogram using correct encodings                                                       | 6      |\n",
    "|           | (a) Code runs without errors                                                                        | 2      |\n",
    "|           | (b) Correctly identifies school type with higher mid-career salary                                  | 2      |\n",
    "| 6         | (a) Loads CSV file                                                                                  | 2      |\n",
    "|           | (a) Displays first 5 rows                                                                           | 2      |\n",
    "|           | (a) Code runs without errors                                                                        | 1      |\n",
    "|           | (b) Uses appropriate DataFrame method or attribute                                                  | 2      |\n",
    "|           | (b) Correctly identifies number of majors in dataset                                                | 2      |\n",
    "|           | (b) Code runs without errors                                                                        | 1      |\n",
    "| 7         | (a) Creates histogram using correct encodings                                                       | 6      |\n",
    "|           | (a) Code runs without errors                                                                        | 2      |\n",
    "|           | (b) Correct major with highest median early career salary                                           | 2      |\n",
    "| 8         | (a) Creates chart with correct mark and encodings                                                   | 6      |\n",
    "|           | (a) Code runs without errors                                                                        | 2      |\n",
    "|           | (b) Thoughtful identification of counterintuitive trends                                            | 2      |\n",
    "|           | (b) Clear and concise writing free of spelling and grammar errors                                   | 1      |\n",
    "| 9         | (a) Created histogram using correct encodings                                                       | 6      |\n",
    "|           | (a) Code runs without errors                                                                        | 2      |\n",
    "|           | (b) Correctly identifies major category with highest mid-career salary                              | 2      |\n",
    "|           | **Total**                                                                                           | **100**|"
   ]
  }
 ],
 "metadata": {
  "kernelspec": {
   "display_name": "Python 3 (ipykernel)",
   "language": "python",
   "name": "python3"
  },
  "language_info": {
   "codemirror_mode": {
    "name": "ipython",
    "version": 3
   },
   "file_extension": ".py",
   "mimetype": "text/x-python",
   "name": "python",
   "nbconvert_exporter": "python",
   "pygments_lexer": "ipython3",
   "version": "3.8.10"
  }
 },
 "nbformat": 4,
 "nbformat_minor": 4
}
